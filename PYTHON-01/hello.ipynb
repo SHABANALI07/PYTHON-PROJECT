{
 "cells": [
  {
   "cell_type": "markdown",
   "id": "c3968fa0-71b6-4b72-85a8-fed4c99031d4",
   "metadata": {},
   "source": [
    "####  SHORCUTS OF JUPYTER NOTEBOOK\n",
    "1. SHIFT + ENTER == cell Execute\n",
    "2. ESC + A == To Create cell Above\n",
    "3. ESC = B == To Create cell Below\n",
    "4. ESC + M == convert cell to markdown\n",
    "5. \"#\" is ==> used for headings in markdown\n",
    "6. ESC + DD == Delete The Cell On Which You Are atm\n",
    "7. ESC + R == Convert Cell To Raw (Plain Text)\n",
    "8. ESC + Y == Convert Cell B ack To \"Code\"\n",
    "\n",
    "##### CTRL + SHIFT + H (To Get All Shortcuts Commands of Jupyter)  "
   ]
  },
  {
   "cell_type": "code",
   "execution_count": 12,
   "id": "eeeb8db0-80cb-415b-8634-d2cdab0b70dd",
   "metadata": {},
   "outputs": [
    {
     "name": "stdout",
     "output_type": "stream",
     "text": [
      "Cloud Data Engeneering Batch-2\n"
     ]
    }
   ],
   "source": [
    "print (\"Cloud Data Engeneering Batch-2\")"
   ]
  },
  {
   "cell_type": "markdown",
   "id": "bc5f3412-dd16-4879-9ace-3ec409d943cb",
   "metadata": {},
   "source": [
    "### VARIABLES\n",
    "- variable `name` can't start with number\n",
    "- variable name can't have `spaces`\n",
    "- can use `underscore` \"_\" instead of spaces\n",
    "- can't use any character expect \"_\"\n",
    "- user precise(meaningfull) and valid names\n",
    "\n",
    "NOTE: Can't use the `reserve words` for variable name"
   ]
  },
  {
   "cell_type": "code",
   "execution_count": 59,
   "id": "c9c51725-9f45-4380-8342-b58a8366f017",
   "metadata": {},
   "outputs": [],
   "source": [
    " guy_who_keeps_saying_his_own_name = \"Mark\" # bad practice\n"
   ]
  },
  {
   "cell_type": "code",
   "execution_count": 123,
   "id": "47113531-ffca-4487-858b-568033aa93d3",
   "metadata": {},
   "outputs": [],
   "source": [
    "name = \"SHABAN ALI\" # string  variablr declare\n",
    "\n",
    "age = 20 # integer type variable declare\n",
    "\n",
    "weight = 40.5 # floating type variable declare\n",
    "\n",
    "is_present = True # boolean type variable dclare"
   ]
  },
  {
   "cell_type": "code",
   "execution_count": 125,
   "id": "762744ad-1c86-4af9-a146-36e7cb356475",
   "metadata": {},
   "outputs": [
    {
     "name": "stdout",
     "output_type": "stream",
     "text": [
      "SHABAN ALI\n",
      "<class 'str'>\n",
      "----------\n",
      "20\n",
      "<class 'int'>\n",
      "--------\n",
      "40.5\n",
      "<class 'float'>\n",
      "--------\n",
      "True\n",
      "<class 'bool'>\n"
     ]
    }
   ],
   "source": [
    "print(name)\n",
    "print(type(name))\n",
    "\n",
    "print('----------')\n",
    "\n",
    "print(age)\n",
    "print(type(age))\n",
    "\n",
    "print('--------')\n",
    "\n",
    "print(weight)\n",
    "print(type(weight))\n",
    "\n",
    "print('--------')\n",
    "\n",
    "print(is_present)\n",
    "print(type(is_present))"
   ]
  },
  {
   "cell_type": "code",
   "execution_count": 129,
   "id": "d987702b-676f-4835-beb6-103e930dac0f",
   "metadata": {},
   "outputs": [],
   "source": [
    "age += 4"
   ]
  },
  {
   "cell_type": "code",
   "execution_count": 131,
   "id": "40972d37-a394-4a82-962b-119d18a9cb24",
   "metadata": {},
   "outputs": [
    {
     "data": {
      "text/plain": [
       "24"
      ]
     },
     "execution_count": 131,
     "metadata": {},
     "output_type": "execute_result"
    }
   ],
   "source": [
    "age"
   ]
  },
  {
   "cell_type": "code",
   "execution_count": null,
   "id": "550a10b3-eb6f-4474-9f8c-6103611f2e08",
   "metadata": {},
   "outputs": [],
   "source": [
    "value_subtract = 5"
   ]
  },
  {
   "cell_type": "code",
   "execution_count": 135,
   "id": "1d89e94e-4bc3-43bf-8bfe-0b2a1d451933",
   "metadata": {},
   "outputs": [],
   "source": [
    "age -= value_subtract"
   ]
  },
  {
   "cell_type": "code",
   "execution_count": 137,
   "id": "2489e86a-8bcd-4f9f-8e7b-87b77794cb1c",
   "metadata": {},
   "outputs": [
    {
     "data": {
      "text/plain": [
       "19"
      ]
     },
     "execution_count": 137,
     "metadata": {},
     "output_type": "execute_result"
    }
   ],
   "source": [
    "age"
   ]
  },
  {
   "cell_type": "code",
   "execution_count": 147,
   "id": "1548ab02-bdd9-4dc1-8e8e-26a245deadc4",
   "metadata": {},
   "outputs": [
    {
     "data": {
      "text/plain": [
       "20"
      ]
     },
     "execution_count": 147,
     "metadata": {},
     "output_type": "execute_result"
    }
   ],
   "source": [
    "19 + int(\"1\") # typecaste"
   ]
  },
  {
   "cell_type": "markdown",
   "id": "040d8a79-cbd5-4c68-8a52-ec9aae7a4738",
   "metadata": {},
   "source": [
    "### Math expressions: Familiar operators"
   ]
  },
  {
   "cell_type": "code",
   "execution_count": 150,
   "id": "4e8a7d65-5ff9-4110-9a74-0c87a2ae6d7a",
   "metadata": {},
   "outputs": [
    {
     "data": {
      "text/plain": [
       "8"
      ]
     },
     "execution_count": 150,
     "metadata": {},
     "output_type": "execute_result"
    }
   ],
   "source": [
    "3 + 5"
   ]
  },
  {
   "cell_type": "code",
   "execution_count": 152,
   "id": "9a7e1646-fcac-4ba9-aa18-ef412846d9da",
   "metadata": {},
   "outputs": [
    {
     "data": {
      "text/plain": [
       "3"
      ]
     },
     "execution_count": 152,
     "metadata": {},
     "output_type": "execute_result"
    }
   ],
   "source": [
    "5 - 2"
   ]
  },
  {
   "cell_type": "code",
   "execution_count": 154,
   "id": "cda719e0-c88e-4b8f-b3f8-9d1163899f42",
   "metadata": {},
   "outputs": [
    {
     "data": {
      "text/plain": [
       "20"
      ]
     },
     "execution_count": 154,
     "metadata": {},
     "output_type": "execute_result"
    }
   ],
   "source": [
    "5*4"
   ]
  },
  {
   "cell_type": "code",
   "execution_count": 158,
   "id": "fc9709b9-a572-4485-b64e-65e21c493a00",
   "metadata": {},
   "outputs": [
    {
     "data": {
      "text/plain": [
       "4.0"
      ]
     },
     "execution_count": 158,
     "metadata": {},
     "output_type": "execute_result"
    }
   ],
   "source": [
    "20/5 # on division answer is always in float"
   ]
  },
  {
   "cell_type": "code",
   "execution_count": 160,
   "id": "a3ff298d-3f52-45e0-a8fa-e1c1b5015a9f",
   "metadata": {},
   "outputs": [
    {
     "data": {
      "text/plain": [
       "4"
      ]
     },
     "execution_count": 160,
     "metadata": {},
     "output_type": "execute_result"
    }
   ],
   "source": [
    "int(20/5) #typecasting"
   ]
  },
  {
   "cell_type": "markdown",
   "id": "36497295-debb-4c34-8bcf-a4ab55e196b9",
   "metadata": {},
   "source": [
    "### Math expressions: Unfamiliar operators"
   ]
  },
  {
   "cell_type": "code",
   "execution_count": 170,
   "id": "1c4ad954-d09d-4b0b-be6f-8f910de9d642",
   "metadata": {},
   "outputs": [
    {
     "data": {
      "text/plain": [
       "1"
      ]
     },
     "execution_count": 170,
     "metadata": {},
     "output_type": "execute_result"
    }
   ],
   "source": [
    "7%3 # reminder operator"
   ]
  },
  {
   "cell_type": "code",
   "execution_count": 184,
   "id": "0ab4f413-44d8-41f4-bbb8-7d3c26f82924",
   "metadata": {},
   "outputs": [],
   "source": [
    "age /= 4 # +=, -=, *=, /="
   ]
  },
  {
   "cell_type": "code",
   "execution_count": 186,
   "id": "7c19e07a-4dd4-4c5a-9845-ff97c3385962",
   "metadata": {},
   "outputs": [
    {
     "data": {
      "text/plain": [
       "5.0"
      ]
     },
     "execution_count": 186,
     "metadata": {},
     "output_type": "execute_result"
    }
   ],
   "source": [
    "age"
   ]
  },
  {
   "cell_type": "code",
   "execution_count": 188,
   "id": "c070dbba-222a-4db4-af84-a7184c861909",
   "metadata": {},
   "outputs": [
    {
     "data": {
      "text/plain": [
       "8"
      ]
     },
     "execution_count": 188,
     "metadata": {},
     "output_type": "execute_result"
    }
   ],
   "source": [
    "2**3 # power operator"
   ]
  },
  {
   "cell_type": "code",
   "execution_count": null,
   "id": "faa6ab43-b006-4e2c-ae14-f504502e7850",
   "metadata": {},
   "outputs": [],
   "source": []
  }
 ],
 "metadata": {
  "kernelspec": {
   "display_name": "Python [conda env:base] *",
   "language": "python",
   "name": "conda-base-py"
  },
  "language_info": {
   "codemirror_mode": {
    "name": "ipython",
    "version": 3
   },
   "file_extension": ".py",
   "mimetype": "text/x-python",
   "name": "python",
   "nbconvert_exporter": "python",
   "pygments_lexer": "ipython3",
   "version": "3.12.7"
  }
 },
 "nbformat": 4,
 "nbformat_minor": 5
}
